{
  "nbformat": 4,
  "nbformat_minor": 0,
  "metadata": {
    "colab": {
      "name": "Gradient-descent-algorithm.ipynb",
      "provenance": [],
      "collapsed_sections": [
        "dWF9cj3_Ro6-",
        "UOCoQWRdJ2eS",
        "DzMGWT9vZHsB"
      ],
      "authorship_tag": "ABX9TyNm9RMAWGTaP1LmSJrH+602",
      "include_colab_link": true
    },
    "kernelspec": {
      "name": "python3",
      "display_name": "Python 3"
    }
  },
  "cells": [
    {
      "cell_type": "markdown",
      "metadata": {
        "id": "view-in-github",
        "colab_type": "text"
      },
      "source": [
        "<a href=\"https://colab.research.google.com/github/AllieUbisse/Data-Insights/blob/master/Gradient_descent_algorithm.ipynb\" target=\"_parent\"><img src=\"https://colab.research.google.com/assets/colab-badge.svg\" alt=\"Open In Colab\"/></a>"
      ]
    },
    {
      "cell_type": "code",
      "metadata": {
        "id": "lfhNMLr4_ubI",
        "colab_type": "code",
        "colab": {}
      },
      "source": [
        "import numpy as np\n",
        "import pandas as pd\n",
        "import matplotlib.pyplot as plt\n",
        "%matplotlib inline\n",
        "\n",
        "from sklearn.linear_model import LinearRegression"
      ],
      "execution_count": 0,
      "outputs": []
    },
    {
      "cell_type": "markdown",
      "metadata": {
        "id": "dWF9cj3_Ro6-",
        "colab_type": "text"
      },
      "source": [
        "# **Given the following x and y**\n",
        "\n",
        "we can plot their relationship/ correlation "
      ]
    },
    {
      "cell_type": "code",
      "metadata": {
        "id": "ElwImxotRkyJ",
        "colab_type": "code",
        "colab": {
          "base_uri": "https://localhost:8080/",
          "height": 299
        },
        "outputId": "2fb76f1d-e08c-442b-a9c9-d6d09c509c89"
      },
      "source": [
        "# generating random values for X and y\n",
        "X = 2 * np.random.rand(100, 1)\n",
        "y = 4 + 5 * X + np.random.randn(100, 1)\n",
        "\n",
        "print('x len = ', len(X))\n",
        "\n",
        "# plotting x and y\n",
        "plt.scatter(X,y)\n",
        "plt.xlabel('X')\n",
        "plt.ylabel('y')\n",
        "plt.show()"
      ],
      "execution_count": 145,
      "outputs": [
        {
          "output_type": "stream",
          "text": [
            "x len =  100\n"
          ],
          "name": "stdout"
        },
        {
          "output_type": "display_data",
          "data": {
            "image/png": "[encoded data removed]",
            "text/plain": [
              "<Figure size 432x288 with 1 Axes>"
            ]
          },
          "metadata": {
            "tags": []
          }
        }
      ]
    },
    {
      "cell_type": "markdown",
      "metadata": {
        "id": "UOCoQWRdJ2eS",
        "colab_type": "text"
      },
      "source": [
        "# **using LinearRegression**\n",
        "\n"
      ]
    },
    {
      "cell_type": "code",
      "metadata": {
        "id": "5YRVS6pmFpug",
        "colab_type": "code",
        "colab": {
          "base_uri": "https://localhost:8080/",
          "height": 34
        },
        "outputId": "9b59f853-c46d-458f-810c-85fd2043cf56"
      },
      "source": [
        "lin_reg = LinearRegression()\n",
        "lin_reg.fit(X, y)\n",
        "\n",
        "# Lets get the intercept and coefient \n",
        "lin_reg.intercept_, lin_reg.coef_"
      ],
      "execution_count": 146,
      "outputs": [
        {
          "output_type": "execute_result",
          "data": {
            "text/plain": [
              "(array([3.89738101]), array([[5.0960838]]))"
            ]
          },
          "metadata": {
            "tags": []
          },
          "execution_count": 146
        }
      ]
    },
    {
      "cell_type": "code",
      "metadata": {
        "id": "AMOkYu-GKUYZ",
        "colab_type": "code",
        "colab": {}
      },
      "source": [
        "# lets try to predict 20 obsevations from x: 20% of the data\n",
        "# using x[:number_of_observations] \n",
        "\n",
        "y_pred = lin_reg.predict(X[:20])"
      ],
      "execution_count": 0,
      "outputs": []
    },
    {
      "cell_type": "code",
      "metadata": {
        "id": "Y1Yk0WohKt5u",
        "colab_type": "code",
        "colab": {
          "base_uri": "https://localhost:8080/",
          "height": 279
        },
        "outputId": "1297f37e-97c4-4a8a-cbd1-c0555f337105"
      },
      "source": [
        "# Let’s plot this model’s predictions \n",
        "plt.plot(X[:20], y_pred , \"r-\")\n",
        "plt.plot(X, y, \"b.\")\n",
        "plt.xlabel('X')\n",
        "plt.ylabel('y')\n",
        "plt.axis([0, 2, 0, 15])\n",
        "plt.show()"
      ],
      "execution_count": 148,
      "outputs": [
        {
          "output_type": "display_data",
          "data": {
            "image/png": "[encoded data removed]",
            "text/plain": [
              "<Figure size 432x288 with 1 Axes>"
            ]
          },
          "metadata": {
            "tags": []
          }
        }
      ]
    },
    {
      "cell_type": "markdown",
      "metadata": {
        "id": "DzMGWT9vZHsB",
        "colab_type": "text"
      },
      "source": [
        "# **Gradient descent algorithm**\n"
      ]
    },
    {
      "cell_type": "code",
      "metadata": {
        "id": "siYf5jB7NI8C",
        "colab_type": "code",
        "colab": {
          "base_uri": "https://localhost:8080/",
          "height": 218
        },
        "outputId": "cb3e9e4c-2338-41f5-b1a6-2b21d3d01b82"
      },
      "source": [
        "# add x0 = 1 to each observation of x\n",
        "X_b = np.c_[np.ones((100, 1)), X] \n",
        "\n",
        "# lets view the results\n",
        "print('X without constant \\n', X[:5])\n",
        "print('X_b with constant \\n', X_b[:5] )"
      ],
      "execution_count": 150,
      "outputs": [
        {
          "output_type": "stream",
          "text": [
            "X without constant \n",
            " [[0.40215066]\n",
            " [1.0533455 ]\n",
            " [0.73361425]\n",
            " [1.49135981]\n",
            " [1.24212183]]\n",
            "X_b with constant \n",
            " [[1.         0.40215066]\n",
            " [1.         1.0533455 ]\n",
            " [1.         0.73361425]\n",
            " [1.         1.49135981]\n",
            " [1.         1.24212183]]\n"
          ],
          "name": "stdout"
        }
      ]
    },
    {
      "cell_type": "code",
      "metadata": {
        "id": "d706WL5AEeat",
        "colab_type": "code",
        "colab": {}
      },
      "source": [
        "#Let’s look at a quick implementation of gradient descent algorithm to get what the linear regresion  got\n",
        "# Note this value of theta might change. To keep it constant use SEED when generating x and y\n",
        "\n",
        "# learning rate\n",
        "eta = 0.1 \n",
        "n_iterations = 1000\n",
        "n = 100 # number of observations / instances use len(X) in case you change the size of x\n",
        "\n",
        "# random initialization\n",
        "theta = np.random.randn(2,1) \n",
        "\n",
        "for iteration in range(n_iterations):\n",
        "    gradients = 2/m * X_b.T.dot(X_b.dot(theta) - y)\n",
        "    theta = theta - eta * gradients"
      ],
      "execution_count": 0,
      "outputs": []
    },
    {
      "cell_type": "code",
      "metadata": {
        "id": "jYOOGbC1MCVd",
        "colab_type": "code",
        "colab": {
          "base_uri": "https://localhost:8080/",
          "height": 50
        },
        "outputId": "f3459d41-8275-4513-c03f-14219d9b4256"
      },
      "source": [
        "# congrats, you have found the theta that was used by the linear regression\n",
        "theta"
      ],
      "execution_count": 152,
      "outputs": [
        {
          "output_type": "execute_result",
          "data": {
            "text/plain": [
              "array([[3.89738101],\n",
              "       [5.0960838 ]])"
            ]
          },
          "metadata": {
            "tags": []
          },
          "execution_count": 152
        }
      ]
    }
  ]
}