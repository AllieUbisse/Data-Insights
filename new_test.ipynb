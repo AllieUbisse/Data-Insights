{
  "nbformat": 4,
  "nbformat_minor": 0,
  "metadata": {
    "colab": {
      "name": "new_test.ipynb",
      "provenance": [],
      "authorship_tag": "ABX9TyOGd2/9KEEgfPodF1TZJkNf",
      "include_colab_link": true
    },
    "kernelspec": {
      "name": "python3",
      "display_name": "Python 3"
    }
  },
  "cells": [
    {
      "cell_type": "markdown",
      "metadata": {
        "id": "view-in-github",
        "colab_type": "text"
      },
      "source": [
        "<a href=\"https://colab.research.google.com/github/AllieUbisse/Data-Insights/blob/master/new_test.ipynb\" target=\"_parent\"><img src=\"https://colab.research.google.com/assets/colab-badge.svg\" alt=\"Open In Colab\"/></a>"
      ]
    },
    {
      "cell_type": "code",
      "metadata": {
        "id": "rIjuX9BzTARu",
        "colab_type": "code",
        "colab": {}
      },
      "source": [
        "# ----------------"
      ],
      "execution_count": 0,
      "outputs": []
    }
  ]
}